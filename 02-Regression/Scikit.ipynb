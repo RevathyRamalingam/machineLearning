{
 "cells": [
  {
   "cell_type": "code",
   "execution_count": 2,
   "id": "26e2d4dc",
   "metadata": {},
   "outputs": [
    {
     "name": "stdout",
     "output_type": "stream",
     "text": [
      "Model Coefficient: [2.92055273]\n",
      "Model Intercept: 7.217708106835687\n",
      "RMSE: 1.6362220902623177\n"
     ]
    }
   ],
   "source": [
    "import numpy as np\n",
    "import pandas as pd\n",
    "from sklearn.linear_model import LinearRegression\n",
    "from sklearn.metrics import mean_squared_error\n",
    "from sklearn.model_selection import train_test_split\n",
    "\n",
    "# ----------------------------\n",
    "# 1. Create synthetic dataset\n",
    "# ----------------------------\n",
    "df = pd.read_csv('https://raw.githubusercontent.com/alexeygrigorev/datasets/master/car_fuel_efficiency.csv')\n",
    "np.random.seed(42)\n",
    "n_samples = 100\n",
    "\n",
    "# Single feature X\n",
    "X = np.random.rand(n_samples, 1) * 10  \n",
    "\n",
    "# Target y = 3*X + 7 + noise\n",
    "y = 3 * X.squeeze() + 7 + np.random.randn(n_samples) * 2  \n",
    "\n",
    "# Optional: introduce missing values\n",
    "X[5] = np.nan\n",
    "X[20] = np.nan\n",
    "\n",
    "# --------------------------------\n",
    "# 2. Handle missing values (mean)\n",
    "# --------------------------------\n",
    "mean_val = np.nanmean(X)\n",
    "X = np.where(np.isnan(X), mean_val, X)\n",
    "\n",
    "# ------------------------------\n",
    "# 3. Split into train and test\n",
    "# ------------------------------\n",
    "X_train, X_test, y_train, y_test = train_test_split(X, y, test_size=0.2, random_state=42)\n",
    "\n",
    "# ------------------------------\n",
    "# 4. Train Linear Regression\n",
    "# ------------------------------\n",
    "model = LinearRegression()\n",
    "model.fit(X_train, y_train)\n",
    "\n",
    "# ------------------------------\n",
    "# 5. Predict and evaluate\n",
    "# ------------------------------\n",
    "y_pred = model.predict(X_test)\n",
    "rmse = np.sqrt(mean_squared_error(y_test, y_pred))\n",
    "\n",
    "print(\"Model Coefficient:\", model.coef_)\n",
    "print(\"Model Intercept:\", model.intercept_)\n",
    "print(\"RMSE:\", rmse)\n"
   ]
  }
 ],
 "metadata": {
  "kernelspec": {
   "display_name": "Python 3",
   "language": "python",
   "name": "python3"
  },
  "language_info": {
   "codemirror_mode": {
    "name": "ipython",
    "version": 3
   },
   "file_extension": ".py",
   "mimetype": "text/x-python",
   "name": "python",
   "nbconvert_exporter": "python",
   "pygments_lexer": "ipython3",
   "version": "3.11.9"
  }
 },
 "nbformat": 4,
 "nbformat_minor": 5
}
