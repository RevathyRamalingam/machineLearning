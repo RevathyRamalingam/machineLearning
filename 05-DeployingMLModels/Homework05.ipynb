{
 "cells": [
  {
   "cell_type": "code",
   "execution_count": 10,
   "id": "84d9320a-86ec-4f91-acfa-bcec735a7f2b",
   "metadata": {},
   "outputs": [
    {
     "name": "stdout",
     "output_type": "stream",
     "text": [
      "C=1.0 0.921 +- 0.011\n"
     ]
    }
   ],
   "source": [
    "import pandas as pd\n",
    "import numpy as np\n",
    "from sklearn.model_selection import train_test_split,KFold\n",
    "from sklearn.metrics import auc\n",
    "from sklearn.metrics import roc_auc_score\n",
    "from sklearn.feature_extraction import DictVectorizer\n",
    "from sklearn.linear_model import LogisticRegression\n",
    "from sklearn.preprocessing import StandardScaler\n",
    "from sklearn.preprocessing import OneHotEncoder\n",
    "from sklearn.metrics import accuracy_score,precision_score,recall_score,roc_curve,classification_report\n",
    "\n",
    "import matplotlib.pyplot as plt\n",
    "df = pd.read_csv('https://raw.githubusercontent.com/alexeygrigorev/datasets/master/course_lead_scoring.csv')\n",
    "df.head().T\n",
    "categorical_columns=list(df.columns[df.dtypes=='object'])\n",
    "numerical_columns=list(df.columns[df.dtypes!='object'])\n",
    "df.isna().sum()\n",
    "df[categorical_columns] = df[categorical_columns].fillna('NA')\n",
    "df[numerical_columns] = df[numerical_columns].fillna(0)\n",
    "df.isna().sum()\n",
    "df_full_train,df_test=train_test_split(df,test_size=0.2,random_state=1)\n",
    "y_test = df_test.converted.values\n",
    "del df_test['converted']\n",
    "\n",
    "if 'converted' in numerical_columns:\n",
    "    numerical_columns.remove('converted')\n",
    "\n",
    "def train(df_train,y_train,C=1.0):\n",
    "    dicts = df_train[categorical_columns+numerical_columns].to_dict(orient ='records')\n",
    "    dv = DictVectorizer(sparse=False)\n",
    "    X_train=dv.fit_transform(dicts)\n",
    "    model = LogisticRegression(C=C,max_iter=5000)\n",
    "    model.fit(X_train,y_train)\n",
    "    return dv,model\n",
    "\n",
    "def predict(df,dv,model):\n",
    "    dicts =df[categorical_columns+numerical_columns].to_dict(orient='records')\n",
    "    X=dv.transform(dicts)\n",
    "    y_pred = model.predict_proba(X)[:,1]\n",
    "    y_pred_bin = model.predict(X)\n",
    "    return y_pred,y_pred_bin\n",
    "\n",
    "C = 1.0\n",
    "n_splits = 5\n",
    "\n",
    "kfold = KFold(n_splits=n_splits, shuffle=True, random_state=1)\n",
    "#t=[]\n",
    "scores = []\n",
    "\n",
    "for train_idx, val_idx in kfold.split(df_full_train):\n",
    "    df_train = df_full_train.iloc[train_idx]\n",
    "    df_val = df_full_train.iloc[val_idx]\n",
    "\n",
    "    y_train = df_train.converted.values\n",
    "    y_val = df_val.converted.values\n",
    "\n",
    "    dv, model = train(df_train, y_train, C=C)\n",
    "    y_pred,y_pred_bin = predict(df_val, dv, model)\n",
    "\n",
    "    auc = roc_auc_score(y_val, y_pred)\n",
    "    scores.append(auc)\n",
    "\n",
    "print('C=%s %.3f +- %.3f' % (C, np.mean(scores), np.std(scores)))\n"
   ]
  },
  {
   "cell_type": "code",
   "execution_count": 11,
   "id": "cd114ed8",
   "metadata": {},
   "outputs": [
    {
     "data": {
      "text/plain": [
       "0.863481228668942"
      ]
     },
     "execution_count": 11,
     "metadata": {},
     "output_type": "execute_result"
    }
   ],
   "source": [
    "dv, model = train(df_full_train, df_full_train.converted.values, C=1.0)\n",
    "y_pred,y_pred_bin = predict(df_test, dv, model)\n",
    "\n",
    "auc = roc_auc_score(y_test, y_pred)\n",
    "\n",
    "accuracy_score(y_test,y_pred_bin)\n",
    "    "
   ]
  }
 ],
 "metadata": {
  "kernelspec": {
   "display_name": "Python 3",
   "language": "python",
   "name": "python3"
  },
  "language_info": {
   "codemirror_mode": {
    "name": "ipython",
    "version": 3
   },
   "file_extension": ".py",
   "mimetype": "text/x-python",
   "name": "python",
   "nbconvert_exporter": "python",
   "pygments_lexer": "ipython3",
   "version": "3.13.9"
  }
 },
 "nbformat": 4,
 "nbformat_minor": 5
}
