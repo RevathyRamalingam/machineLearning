{
 "cells": [
  {
   "cell_type": "code",
   "execution_count": 24,
   "id": "b148fe2c-baf5-42f2-b3da-ac93b602bb46",
   "metadata": {},
   "outputs": [],
   "source": [
    "import pandas as pd\n",
    "import numpy as np\n",
    "from sklearn.model_selection import train_test_split,KFold\n",
    "from sklearn.metrics import auc\n",
    "from sklearn.metrics import roc_auc_score\n",
    "from sklearn.feature_extraction import DictVectorizer\n",
    "from sklearn.linear_model import LogisticRegression\n",
    "from sklearn.preprocessing import StandardScaler\n",
    "from sklearn.preprocessing import OneHotEncoder\n",
    "from sklearn.metrics import accuracy_score,precision_score,recall_score,roc_curve\n",
    "\n",
    "import matplotlib.pyplot as plt"
   ]
  },
  {
   "cell_type": "code",
   "execution_count": 25,
   "id": "dbb8fcb7-5fae-4d65-8b6f-3bb5a4dde2cc",
   "metadata": {},
   "outputs": [
    {
     "data": {
      "text/html": [
       "<div>\n",
       "<style scoped>\n",
       "    .dataframe tbody tr th:only-of-type {\n",
       "        vertical-align: middle;\n",
       "    }\n",
       "\n",
       "    .dataframe tbody tr th {\n",
       "        vertical-align: top;\n",
       "    }\n",
       "\n",
       "    .dataframe thead th {\n",
       "        text-align: right;\n",
       "    }\n",
       "</style>\n",
       "<table border=\"1\" class=\"dataframe\">\n",
       "  <thead>\n",
       "    <tr style=\"text-align: right;\">\n",
       "      <th></th>\n",
       "      <th>0</th>\n",
       "      <th>1</th>\n",
       "      <th>2</th>\n",
       "      <th>3</th>\n",
       "      <th>4</th>\n",
       "    </tr>\n",
       "  </thead>\n",
       "  <tbody>\n",
       "    <tr>\n",
       "      <th>lead_source</th>\n",
       "      <td>paid_ads</td>\n",
       "      <td>social_media</td>\n",
       "      <td>events</td>\n",
       "      <td>paid_ads</td>\n",
       "      <td>referral</td>\n",
       "    </tr>\n",
       "    <tr>\n",
       "      <th>industry</th>\n",
       "      <td>NaN</td>\n",
       "      <td>retail</td>\n",
       "      <td>healthcare</td>\n",
       "      <td>retail</td>\n",
       "      <td>education</td>\n",
       "    </tr>\n",
       "    <tr>\n",
       "      <th>number_of_courses_viewed</th>\n",
       "      <td>1</td>\n",
       "      <td>1</td>\n",
       "      <td>5</td>\n",
       "      <td>2</td>\n",
       "      <td>3</td>\n",
       "    </tr>\n",
       "    <tr>\n",
       "      <th>annual_income</th>\n",
       "      <td>79450.0</td>\n",
       "      <td>46992.0</td>\n",
       "      <td>78796.0</td>\n",
       "      <td>83843.0</td>\n",
       "      <td>85012.0</td>\n",
       "    </tr>\n",
       "    <tr>\n",
       "      <th>employment_status</th>\n",
       "      <td>unemployed</td>\n",
       "      <td>employed</td>\n",
       "      <td>unemployed</td>\n",
       "      <td>NaN</td>\n",
       "      <td>self_employed</td>\n",
       "    </tr>\n",
       "    <tr>\n",
       "      <th>location</th>\n",
       "      <td>south_america</td>\n",
       "      <td>south_america</td>\n",
       "      <td>australia</td>\n",
       "      <td>australia</td>\n",
       "      <td>europe</td>\n",
       "    </tr>\n",
       "    <tr>\n",
       "      <th>interaction_count</th>\n",
       "      <td>4</td>\n",
       "      <td>1</td>\n",
       "      <td>3</td>\n",
       "      <td>1</td>\n",
       "      <td>3</td>\n",
       "    </tr>\n",
       "    <tr>\n",
       "      <th>lead_score</th>\n",
       "      <td>0.94</td>\n",
       "      <td>0.8</td>\n",
       "      <td>0.69</td>\n",
       "      <td>0.87</td>\n",
       "      <td>0.62</td>\n",
       "    </tr>\n",
       "    <tr>\n",
       "      <th>converted</th>\n",
       "      <td>1</td>\n",
       "      <td>0</td>\n",
       "      <td>1</td>\n",
       "      <td>0</td>\n",
       "      <td>1</td>\n",
       "    </tr>\n",
       "  </tbody>\n",
       "</table>\n",
       "</div>"
      ],
      "text/plain": [
       "                                      0              1           2          3  \\\n",
       "lead_source                    paid_ads   social_media      events   paid_ads   \n",
       "industry                            NaN         retail  healthcare     retail   \n",
       "number_of_courses_viewed              1              1           5          2   \n",
       "annual_income                   79450.0        46992.0     78796.0    83843.0   \n",
       "employment_status            unemployed       employed  unemployed        NaN   \n",
       "location                  south_america  south_america   australia  australia   \n",
       "interaction_count                     4              1           3          1   \n",
       "lead_score                         0.94            0.8        0.69       0.87   \n",
       "converted                             1              0           1          0   \n",
       "\n",
       "                                      4  \n",
       "lead_source                    referral  \n",
       "industry                      education  \n",
       "number_of_courses_viewed              3  \n",
       "annual_income                   85012.0  \n",
       "employment_status         self_employed  \n",
       "location                         europe  \n",
       "interaction_count                     3  \n",
       "lead_score                         0.62  \n",
       "converted                             1  "
      ]
     },
     "execution_count": 25,
     "metadata": {},
     "output_type": "execute_result"
    }
   ],
   "source": [
    "df = pd.read_csv('https://raw.githubusercontent.com/alexeygrigorev/datasets/master/course_lead_scoring.csv')\n",
    "df.head().T"
   ]
  },
  {
   "cell_type": "code",
   "execution_count": 26,
   "id": "409fd391-7074-48c8-a7d5-5c269eda451c",
   "metadata": {},
   "outputs": [
    {
     "data": {
      "text/plain": [
       "lead_source                 128\n",
       "industry                    134\n",
       "number_of_courses_viewed      0\n",
       "annual_income               181\n",
       "employment_status           100\n",
       "location                     63\n",
       "interaction_count             0\n",
       "lead_score                    0\n",
       "converted                     0\n",
       "dtype: int64"
      ]
     },
     "execution_count": 26,
     "metadata": {},
     "output_type": "execute_result"
    }
   ],
   "source": [
    "categorical_columns=list(df.columns[df.dtypes=='object'])\n",
    "numerical_columns=list(df.columns[df.dtypes!='object'])\n",
    "df.isna().sum()"
   ]
  },
  {
   "cell_type": "code",
   "execution_count": 27,
   "id": "528cd1ce-c4a5-4dc2-abf2-e110a9b5efc8",
   "metadata": {},
   "outputs": [
    {
     "data": {
      "text/plain": [
       "lead_source                 0\n",
       "industry                    0\n",
       "number_of_courses_viewed    0\n",
       "annual_income               0\n",
       "employment_status           0\n",
       "location                    0\n",
       "interaction_count           0\n",
       "lead_score                  0\n",
       "converted                   0\n",
       "dtype: int64"
      ]
     },
     "execution_count": 27,
     "metadata": {},
     "output_type": "execute_result"
    }
   ],
   "source": [
    "df[categorical_columns] = df[categorical_columns].fillna('NA')\n",
    "df[numerical_columns] = df[numerical_columns].fillna(0)\n",
    "df.isna().sum()"
   ]
  },
  {
   "cell_type": "code",
   "execution_count": 28,
   "id": "8609b0b9-9bf2-44ab-8d2e-7589c14cb308",
   "metadata": {},
   "outputs": [],
   "source": [
    "df_fulltrain,df_test=train_test_split(df,test_size=0.2,random_state=1)\n",
    "df_train,df_val=train_test_split(df_fulltrain,test_size=0.25,random_state=1)\n",
    "y_train = df_train['converted']\n",
    "y_val = df_val['converted']\n",
    "y_test= df_test['converted']\n",
    "\n",
    "del df_train['converted']\n",
    "del df_val['converted']\n",
    "del df_test['converted']\n",
    "if 'converted' in numerical_columns:\n",
    "    numerical_columns.remove('converted')"
   ]
  },
  {
   "cell_type": "code",
   "execution_count": 29,
   "id": "a69437bb-927b-40fa-8440-aefb8b7e42ee",
   "metadata": {},
   "outputs": [
    {
     "name": "stdout",
     "output_type": "stream",
     "text": [
      "1462 1462\n"
     ]
    }
   ],
   "source": [
    "sum_of_df = len(df_test)+len(df_train)+len(df_val)\n",
    "print(sum_of_df,len(df))\n",
    "assert len(df) == sum_of_df"
   ]
  },
  {
   "cell_type": "code",
   "execution_count": 30,
   "id": "f175d576-3984-4b4c-8bf5-ca087cedc9c9",
   "metadata": {},
   "outputs": [
    {
     "name": "stdout",
     "output_type": "stream",
     "text": [
      "number_of_courses_viewed 0.7635680590007088\n",
      "annual_income 0.5519578313253012\n",
      "interaction_count 0.738270176293409\n",
      "lead_score 0.6144993577250176\n"
     ]
    }
   ],
   "source": [
    "#calculate roc_auc_score for numerical values\n",
    "for i in numerical_columns:\n",
    "  score=roc_auc_score(y_train,df_train[i])\n",
    "  print(i,score)"
   ]
  },
  {
   "cell_type": "code",
   "execution_count": 31,
   "id": "470784aa-6287-4c96-83ee-2ea6fc852347",
   "metadata": {},
   "outputs": [
    {
     "data": {
      "image/png": "[encoded data removed]",
      "text/plain": [
       "<Figure size 500x500 with 1 Axes>"
      ]
     },
     "metadata": {},
     "output_type": "display_data"
    }
   ],
   "source": [
    "X_train_num=df_train[numerical_columns].values\n",
    "scaler = StandardScaler()\n",
    "X_train_num = scaler.fit_transform(X_train_num)\n",
    "ohe = OneHotEncoder(sparse_output=False)\n",
    "X_train_cat = ohe.fit_transform(df_train[categorical_columns].values)\n",
    "X_train = np.column_stack([X_train_cat,X_train_num])\n",
    "model = LogisticRegression(solver='liblinear', C=1.0, max_iter=1000)\n",
    "model.fit(X_train,y_train)\n",
    "X_val_num=df_val[numerical_columns].values\n",
    "X_val_num = scaler.transform(X_val_num)\n",
    "X_val_cat = ohe.transform(df_val[categorical_columns].values)\n",
    "X_val = np.column_stack([X_val_cat,X_val_num])\n",
    "y_pred =model.predict_proba(X_val)[:,1]\n",
    "#accuracy_score(y_val,y_pred>=0.5)\n",
    "roc_auc_score(y_val,y_pred)\n",
    "y_pred_bin = model.predict(X_val)\n",
    "#accuracy_score(y_val,y_pred)\n",
    "\n",
    "#@ INSPECTING THE ROC CURVE:\n",
    "plt.figure(figsize=(5, 5))\n",
    "\n",
    "fpr, tpr, _ = roc_curve(y_val, y_pred)\n",
    "plt.plot(fpr, tpr, label='probability')\n",
    "\n",
    "fpr, tpr, _ = roc_curve(y_val, y_pred_bin)\n",
    "plt.plot(fpr, tpr, label='hard prediction')\n",
    "\n",
    "plt.plot([0, 1], [0, 1], color='grey', linestyle='--')\n",
    "\n",
    "plt.legend()\n",
    "plt.show()\n"
   ]
  },
  {
   "cell_type": "code",
   "execution_count": null,
   "id": "4df5b842",
   "metadata": {},
   "outputs": [],
   "source": [
    "\n"
   ]
  },
  {
   "cell_type": "code",
   "execution_count": 32,
   "id": "95a1298a",
   "metadata": {},
   "outputs": [
    {
     "name": "stdout",
     "output_type": "stream",
     "text": [
      "threshold    0.530000\n",
      "p            0.877907\n",
      "r            0.883041\n",
      "diff         0.005134\n",
      "f1           0.880466\n",
      "Name: 53, dtype: float64\n",
      "threshold    0.530000\n",
      "p            0.877907\n",
      "r            0.883041\n",
      "diff         0.005134\n",
      "f1           0.880466\n",
      "Name: 53, dtype: float64\n"
     ]
    },
    {
     "data": {
      "text/plain": [
       "[<matplotlib.lines.Line2D at 0x23b75eb6810>]"
      ]
     },
     "execution_count": 32,
     "metadata": {},
     "output_type": "execute_result"
    },
    {
     "data": {
      "image/png": "[encoded data removed]",
      "text/plain": [
       "<Figure size 640x480 with 1 Axes>"
      ]
     },
     "metadata": {},
     "output_type": "display_data"
    }
   ],
   "source": [
    "scores =[]\n",
    "columns = ['threshold','p','r','diff','f1']\n",
    "df_scores = pd.DataFrame(scores,columns=columns)\n",
    "thresholds = np.arange(0,1.01,0.01)\n",
    "for t in thresholds:\n",
    "    y_pred_n = ( y_pred>= t).astype(int)\n",
    "    if y_pred_n.sum() ==0:\n",
    "       continue\n",
    "    p = precision_score(y_val,y_pred_n)\n",
    "    r = recall_score(y_val,y_pred_n)\n",
    "    d = abs(p-r)\n",
    "    f1 = 2*((p*r)/(p+r))\n",
    "    scores.append((t,p,r,d,f1))\n",
    "    \n",
    "df_scores = pd.DataFrame(scores,columns=columns)\n",
    "print(df_scores.iloc[df_scores['diff'].idxmin()])\n",
    "print(df_scores.iloc[df_scores['f1'].idxmax()])\n",
    "#df_scores['f1'].max()\n",
    "plt.plot(df_scores.threshold,df_scores['p'],label ='Precision')\n",
    "plt.plot(df_scores.threshold,df_scores['r'],label ='Recall')\n",
    "#plt.legend()\n",
    "\n"
   ]
  },
  {
   "cell_type": "code",
   "execution_count": 36,
   "id": "d5aa4fd1",
   "metadata": {},
   "outputs": [
    {
     "name": "stdout",
     "output_type": "stream",
     "text": [
      "1e-06 0.766 0.016248076809271934\n",
      "0.001 0.786 0.024166091947189133\n",
      "1 0.84 0.024494897427831768\n"
     ]
    }
   ],
   "source": [
    "scores = []\n",
    "no_of_splits =5\n",
    "kfold=KFold(no_of_splits ,shuffle=True, random_state=1)\n",
    "for c in [0.000001, 0.001, 1]:\n",
    "    scores = []\n",
    "    for train_idx,val_idx in kfold.split(df_fulltrain):\n",
    "        df_train =df_fulltrain.iloc[train_idx]\n",
    "        df_val = df_fulltrain.iloc[val_idx]\n",
    "        y_train = df_train.converted\n",
    "        y_val = df_val.converted\n",
    "        model =train(df_train,y_train,c)\n",
    "        X_val_num=df_val[numerical_columns].values\n",
    "        X_val_num = scaler.transform(X_val_num)\n",
    "        X_val_cat = ohe.transform(df_val[categorical_columns].values)\n",
    "        X_val = np.column_stack([X_val_cat,X_val_num])\n",
    "        y_pred = model.predict(X_val)\n",
    "        roc = roc_auc_score(y_val,y_pred)\n",
    "        scores.append(round(roc,2))\n",
    "    print(c,round(np.mean(scores),3),np.std(scores))\n",
    "    "
   ]
  },
  {
   "cell_type": "code",
   "execution_count": 35,
   "id": "7a139689",
   "metadata": {},
   "outputs": [],
   "source": [
    "def train(df_train,y_train,C=c):\n",
    "    X_train_num=df_train[numerical_columns].values\n",
    "    scaler = StandardScaler()\n",
    "    X_train_num = scaler.fit_transform(X_train_num)\n",
    "    ohe = OneHotEncoder(sparse_output=False)\n",
    "    X_train_cat = ohe.fit_transform(df_train[categorical_columns].values)\n",
    "    X_train = np.column_stack([X_train_cat,X_train_num])\n",
    "    model = LogisticRegression(solver='liblinear', C=c, max_iter=1000)\n",
    "    model.fit(X_train,y_train)\n",
    "    return model"
   ]
  }
 ],
 "metadata": {
  "kernelspec": {
   "display_name": "Python 3",
   "language": "python",
   "name": "python3"
  },
  "language_info": {
   "codemirror_mode": {
    "name": "ipython",
    "version": 3
   },
   "file_extension": ".py",
   "mimetype": "text/x-python",
   "name": "python",
   "nbconvert_exporter": "python",
   "pygments_lexer": "ipython3",
   "version": "3.11.9"
  }
 },
 "nbformat": 4,
 "nbformat_minor": 5
}
